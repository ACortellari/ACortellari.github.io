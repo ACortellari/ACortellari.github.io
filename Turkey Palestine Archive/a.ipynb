{
 "cells": [
  {
   "cell_type": "markdown",
   "metadata": {},
   "source": []
  },
  {
   "cell_type": "code",
   "execution_count": 34,
   "metadata": {},
   "outputs": [],
   "source": [
    "import pandas as pd\n",
    "import csv"
   ]
  },
  {
   "cell_type": "markdown",
   "metadata": {},
   "source": [
    "## Import Issues Table"
   ]
  },
  {
   "cell_type": "markdown",
   "metadata": {},
   "source": [
    "## Create Main Publications Page"
   ]
  },
  {
   "cell_type": "code",
   "execution_count": 35,
   "metadata": {},
   "outputs": [
    {
     "data": {
      "text/html": [
       "<div>\n",
       "<style scoped>\n",
       "    .dataframe tbody tr th:only-of-type {\n",
       "        vertical-align: middle;\n",
       "    }\n",
       "\n",
       "    .dataframe tbody tr th {\n",
       "        vertical-align: top;\n",
       "    }\n",
       "\n",
       "    .dataframe thead th {\n",
       "        text-align: right;\n",
       "    }\n",
       "</style>\n",
       "<table border=\"1\" class=\"dataframe\">\n",
       "  <thead>\n",
       "    <tr style=\"text-align: right;\">\n",
       "      <th></th>\n",
       "      <th>publication_title</th>\n",
       "      <th>publication_location</th>\n",
       "      <th>publication_type</th>\n",
       "      <th>life_span</th>\n",
       "      <th>first_year</th>\n",
       "      <th>last_year</th>\n",
       "      <th>total_issues</th>\n",
       "    </tr>\n",
       "  </thead>\n",
       "  <tbody>\n",
       "    <tr>\n",
       "      <th>0</th>\n",
       "      <td>[Aydınlık Sosyalist Dergi](Aydınlık Sosyalist ...</td>\n",
       "      <td>Ankara</td>\n",
       "      <td>monthly</td>\n",
       "      <td>4 years</td>\n",
       "      <td>1968</td>\n",
       "      <td>1971</td>\n",
       "      <td>29</td>\n",
       "    </tr>\n",
       "    <tr>\n",
       "      <th>1</th>\n",
       "      <td>[Aylık Ant Dergisi](Aylık Ant Dergisi.md)</td>\n",
       "      <td>İstanbul</td>\n",
       "      <td>monthly</td>\n",
       "      <td>2 years</td>\n",
       "      <td>1970</td>\n",
       "      <td>1971</td>\n",
       "      <td>13</td>\n",
       "    </tr>\n",
       "    <tr>\n",
       "      <th>2</th>\n",
       "      <td>[Haftalık Ant Dergisi](Haftalık Ant Dergisi.md)</td>\n",
       "      <td>İstanbul</td>\n",
       "      <td>weekly</td>\n",
       "      <td>4 years</td>\n",
       "      <td>1967</td>\n",
       "      <td>1970</td>\n",
       "      <td>174</td>\n",
       "    </tr>\n",
       "    <tr>\n",
       "      <th>3</th>\n",
       "      <td>[Proleter Devrimci Aydınlık](Proleter Devrimci...</td>\n",
       "      <td>Ankara</td>\n",
       "      <td>monthly</td>\n",
       "      <td>2 years</td>\n",
       "      <td>1970</td>\n",
       "      <td>1971</td>\n",
       "      <td>26</td>\n",
       "    </tr>\n",
       "    <tr>\n",
       "      <th>4</th>\n",
       "      <td>[Türk Solu](Türk Solu.md)</td>\n",
       "      <td>Ankara</td>\n",
       "      <td>weekly</td>\n",
       "      <td>4 years</td>\n",
       "      <td>1967</td>\n",
       "      <td>1970</td>\n",
       "      <td>126</td>\n",
       "    </tr>\n",
       "  </tbody>\n",
       "</table>\n",
       "</div>"
      ],
      "text/plain": [
       "                                   publication_title publication_location  \\\n",
       "0  [Aydınlık Sosyalist Dergi](Aydınlık Sosyalist ...               Ankara   \n",
       "1          [Aylık Ant Dergisi](Aylık Ant Dergisi.md)             İstanbul   \n",
       "2    [Haftalık Ant Dergisi](Haftalık Ant Dergisi.md)             İstanbul   \n",
       "3  [Proleter Devrimci Aydınlık](Proleter Devrimci...               Ankara   \n",
       "4                          [Türk Solu](Türk Solu.md)               Ankara   \n",
       "\n",
       "  publication_type life_span  first_year  last_year  total_issues  \n",
       "0          monthly   4 years        1968       1971            29  \n",
       "1          monthly   2 years        1970       1971            13  \n",
       "2           weekly   4 years        1967       1970           174  \n",
       "3          monthly   2 years        1970       1971            26  \n",
       "4           weekly   4 years        1967       1970           126  "
      ]
     },
     "execution_count": 35,
     "metadata": {},
     "output_type": "execute_result"
    }
   ],
   "source": [
    "publications_table = pd.read_csv(\n",
    "    r'C:\\Users\\act1780\\Documents\\GitHub\\ACortellari.github.io\\Turkey Palestine Archive\\Sources Database\\publications_view.csv',\n",
    "    delimiter='\\t')\n",
    "\n",
    "publications_table['publication_title'] = publications_table.apply(lambda row: f\"[{row['publication_title']}]({row['publication_title']}.md)\", axis=1)\n",
    "publications_table"
   ]
  },
  {
   "cell_type": "code",
   "execution_count": 36,
   "metadata": {},
   "outputs": [],
   "source": [
    "filename = rf\"Primary Sources\\Publications\\publications.md\"\n",
    "with open(filename, 'w') as f:\n",
    "    f.write(f\"# Publications\\n\\n\")\n",
    "    f.write((publications_table).to_markdown(index=False))"
   ]
  },
  {
   "cell_type": "markdown",
   "metadata": {},
   "source": [
    "## Create each Publications' Page"
   ]
  },
  {
   "cell_type": "code",
   "execution_count": 37,
   "metadata": {},
   "outputs": [],
   "source": [
    "issues_table = pd.read_csv(\n",
    "    r'C:\\Users\\act1780\\Documents\\GitHub\\ACortellari.github.io\\Turkey Palestine Archive\\Sources Database\\issues_view.csv',\n",
    "    delimiter='\\t')"
   ]
  },
  {
   "cell_type": "code",
   "execution_count": 38,
   "metadata": {},
   "outputs": [
    {
     "name": "stdout",
     "output_type": "stream",
     "text": [
      "<csv.DictReader object at 0x0000022B39C5C4D0>\n"
     ]
    }
   ],
   "source": [
    "csv_file = r'C:\\Users\\act1780\\Documents\\GitHub\\ACortellari.github.io\\Turkey Palestine Archive\\Sources Database\\publications_view.csv'  # Change this to the path of your CSV file\n",
    "    \n",
    "with open(csv_file, newline='', encoding='utf-8') as csvfile:\n",
    "        reader = csv.DictReader(csvfile, delimiter='\\t')\n",
    "        print(reader)\n",
    "        for row in reader:\n",
    "            publication_name = row['publication_title']\n",
    "            publication_type = row['publication_type']\n",
    "            start_year = row['first_year']\n",
    "            end_year = row['last_year']\n",
    "            total_issues = row['total_issues']\n",
    "            publication_location = row['publication_location']\n",
    "\n",
    "            metadata = f\"{publication_name} was a {publication_type} publication. It published {total_issues} issues in {publication_location} between {start_year} and {end_year}.\"\n",
    "            \n",
    "            filename = rf\"Primary Sources\\Publications\\{publication_name}.md\"\n",
    "            with open(filename, 'w') as f:\n",
    "                f.write(f\"# [Publications](publications.md) | {publication_name}\\n\\n\")\n",
    "                f.write(f\"{metadata}\\n\\n\")\n",
    "                f.write(\"## Issues Summary\\n\\n\")\n",
    "                f.write(issues_table[issues_table['publication_title'] == publication_name][['issue_year', 'issue_month', 'issue_number', 'issue_type']]\\\n",
    "                        .sort_values(by=['issue_year', 'issue_month'])\\\n",
    "                        .to_markdown(index=False))"
   ]
  }
 ],
 "metadata": {
  "kernelspec": {
   "display_name": "MyPetProject",
   "language": "python",
   "name": "python3"
  },
  "language_info": {
   "codemirror_mode": {
    "name": "ipython",
    "version": 3
   },
   "file_extension": ".py",
   "mimetype": "text/x-python",
   "name": "python",
   "nbconvert_exporter": "python",
   "pygments_lexer": "ipython3",
   "version": "3.11.8"
  }
 },
 "nbformat": 4,
 "nbformat_minor": 2
}
