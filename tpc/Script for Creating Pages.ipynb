{
 "cells": [
  {
   "cell_type": "code",
   "execution_count": 166,
   "metadata": {},
   "outputs": [],
   "source": [
    "import pandas as pd\n",
    "import numpy as np\n",
    "\n",
    "import csv\n",
    "import glob\n",
    "import os\n",
    "from datetime import date\n",
    "\n",
    "today = date.today()"
   ]
  },
  {
   "cell_type": "code",
   "execution_count": 167,
   "metadata": {},
   "outputs": [],
   "source": [
    "home_page = \"[The Turkey-Palestine Source Collection](turkey_palestine_collection.md)\"\n",
    "separator = \" // \"\n",
    "\n",
    "page_heading_element = \"# \"\n",
    "page_heading_element_2 = \"## \"\n",
    "\n",
    "project_folder = 'Sol-idarities\\Sources Database'\n",
    "upper_category = 'firstlevel_'"
   ]
  },
  {
   "cell_type": "markdown",
   "metadata": {},
   "source": [
    "## Import Files"
   ]
  },
  {
   "cell_type": "code",
   "execution_count": 168,
   "metadata": {},
   "outputs": [],
   "source": [
    "# publications_view = pd.read_csv(fr'C:\\Users\\act1780\\Documents\\GitHub\\{project_folder}\\publications_view.csv', delimiter='\\t')\n",
    "issues_table = pd.read_csv(fr'C:\\Users\\act1780\\Documents\\GitHub\\{project_folder}\\issues_view.csv', delimiter='\\t')"
   ]
  },
  {
   "cell_type": "markdown",
   "metadata": {},
   "source": [
    "## Re-usable Blocks\n",
    "Sets a few blocks that can be reused throughout the website as variables."
   ]
  },
  {
   "cell_type": "markdown",
   "metadata": {},
   "source": [
    "Create a list of available views from the database"
   ]
  },
  {
   "cell_type": "code",
   "execution_count": 169,
   "metadata": {},
   "outputs": [
    {
     "data": {
      "text/plain": [
       "''"
      ]
     },
     "execution_count": 169,
     "metadata": {},
     "output_type": "execute_result"
    }
   ],
   "source": [
    "folder_path = fr\"C:\\Users\\act1780\\Documents\\GitHub\\andreacortellari.github.io\\{project_folder}/*\" \n",
    "files_list = glob.glob(folder_path)\n",
    "\n",
    "list_of_files = []\n",
    "list_of_views = []\n",
    "for file_path in files_list:\n",
    "    if '.csv' in file_path:\n",
    "        view_name = file_path.split('.')[-2].split(\"\\\\\")[-1]\n",
    "        formatted_view_name = f\"* {view_name}\"\n",
    "        list_of_files.append(formatted_view_name)\n",
    "        list_of_views.append(view_name)\n",
    "\n",
    "files = str(list_of_files).replace(\"'\", \"\").replace(\"[\", \"\").replace(\"]\", \"\").replace(\",\", \"\")\n",
    "files"
   ]
  },
  {
   "cell_type": "markdown",
   "metadata": {},
   "source": [
    "## Create each Publications' Page"
   ]
  },
  {
   "cell_type": "code",
   "execution_count": 170,
   "metadata": {},
   "outputs": [],
   "source": [
    "#columns_publications_articles = ['article_id', 'article_text', 'author_type', 'pages', 'publication_title', 'regular_feature_title']\n",
    "\n",
    "#csv_file = fr'C:\\Users\\act1780\\Documents\\GitHub\\{project_folder}\\publications_view.csv'  # Change this to the path of your CSV file\n",
    "    \n",
    "#with open(csv_file, newline='', encoding='utf-8') as csvfile:\n",
    "#        reader = csv.DictReader(csvfile, delimiter='\\t')\n",
    "#        print(reader)\n",
    "#        for row in reader:\n",
    "#            publication_name = row['publication_title']\n",
    "#            publication_type = row['publication_type']\n",
    "#            start_year = row['first_year']\n",
    "#            end_year = row['last_year']\n",
    "#            total_issues = row['total_issues']\n",
    "#            publication_location = row['publication_location']\n",
    "#            articles = articles_view[articles_view['publication_title'] == publication_name]\n",
    "\n",
    "#            metadata = f\"{publication_name} was a {publication_type} publication. It published {total_issues} issues in {publication_location} between {start_year} and {end_year}.\"\n",
    "            \n",
    "#            filename = rf\"C:\\Users\\act1780\\Documents\\GitHub\\Sol-idarities\\_posts\\1967-01-01-{publication_name}.md\"\n",
    "#            with open(filename, 'w', encoding='utf-8') as f:\n",
    "#                f.write(f\"\"\"---\n",
    "#title: {publication_name}\n",
    "#date: 1967-01-01 21:15:00 +0100\n",
    "#categories: [Publications]\n",
    "#tags: []\n",
    "#---\\n\\n\"\"\")\n",
    "#                f.write(f\"{metadata}\\n\\n\")\n",
    "#                f.write(f\"{publications_metadata}\\n\\n\")\n",
    "#                f.write(f\"{page_heading_element_2}Articles in Scope\\n\\n\")\n",
    "#                f.write(f\"{articles.drop(columns=columns_publications_articles).to_markdown(index=False)}\\n\\n\" if len(articles) >= 1 else \"No article focused on Palestine in our database.\\n\\n\")\n",
    "#                f.write(f\"{page_heading_element_2}Issues Summary\\n\\n\")\n",
    "#                f.write(issues_table[issues_table['publication_title'] == publication_name].drop(columns=['publication_id', 'publication_title', 'company_name']).to_markdown(index=False))"
   ]
  },
  {
   "cell_type": "markdown",
   "metadata": {},
   "source": [
    "## Create Books Pages"
   ]
  },
  {
   "cell_type": "code",
   "execution_count": 171,
   "metadata": {},
   "outputs": [],
   "source": [
    "csv_file = fr'C:\\Users\\act1780\\Documents\\GitHub\\{project_folder}\\books_view.csv'  # Change this to the path of your CSV file\n",
    "    \n",
    "with open(csv_file, newline='', encoding='utf-8') as csvfile:\n",
    "        reader = csv.DictReader(csvfile, delimiter='\\t')\n",
    "        for row in reader:\n",
    "            book_full_title = f\"{row['book_title']}: {row['book_subtitle']}\" if len(row['book_subtitle']) > 1 else f\"{row['book_title']}\"\n",
    "\n",
    "            if len(row['author']) > 1:\n",
    "                citation = f\"\"\"{row['author']}. {row['book_title']}. {row['city_name']}: {row['publishing_house']}, {row['publishing_year']}\\n\\n\"\"\" \n",
    "                text = f\"In {row['publishing_year']}, {row['publishing_house']} published '{book_full_title}' by {row['author']}. The book is registered in [WorldCat]({row['worldcat_url']}).\"\n",
    "            else: \n",
    "                citation = f\"\"\"{row['book_title']}. {row['city_name']}: {row['publishing_house']}, {row['publishing_year']}\\n\\n\"\"\"\n",
    "                text = f\"In {row['publishing_year']}, {row['publishing_house']} published '{book_full_title}. The book is registered in [WorldCat]({row['worldcat_url']}).\"\n",
    "                        \n",
    "            publication_name = row['book_title']\n",
    "            year = row['publishing_year']\n",
    "            \n",
    "            filename = rf\"C:\\Users\\act1780\\Documents\\GitHub\\Sol-idarities\\_posts\\{year}-01-01-{publication_name}.md\"\n",
    "            with open(filename, 'w', encoding='utf-8') as f:\n",
    "                f.write(f\"\"\"---\n",
    "title: {publication_name}\n",
    "date: {year}-01-01 21:15:00 +0100\n",
    "categories: [Books]\n",
    "tags: []\n",
    "---\\n\\n\"\"\")\n",
    "                      \n",
    "                f.write(f\"{text}\\n\\n\")\n",
    "                f.write(f\"\"\"\n",
    "| Cite this:   |\n",
    "|--------|\n",
    "| {citation} \"\"\")"
   ]
  },
  {
   "cell_type": "markdown",
   "metadata": {},
   "source": [
    "# Create each articles' page"
   ]
  },
  {
   "cell_type": "code",
   "execution_count": 172,
   "metadata": {},
   "outputs": [],
   "source": [
    "articles_view = pd.read_csv(rf'C:\\Users\\act1780\\Documents\\GitHub\\{project_folder}\\articles_view.csv', delimiter='\\t').fillna('')"
   ]
  },
  {
   "cell_type": "code",
   "execution_count": 173,
   "metadata": {},
   "outputs": [],
   "source": [
    "for index, row in articles_view.iterrows():\n",
    "    if row['author'] != np.nan:\n",
    "        citation = f\"\"\"{row['author']}, \"{row['article_title']},\" {row['publication_title']}, {row['issue_number']}, {row['pages']}\"\"\"\n",
    "    else:\n",
    "        citation = f\"\"\"\"{row['article_title']},\" {row['publication_title']}, , {row['pages']}\"\"\"\n",
    "    \n",
    "    row['issue_date'] = f\"{row['issue_date']}-01\" if len(row['issue_date']) == 7 else row['issue_date']\n",
    "    filename = rf\"C:\\Users\\act1780\\Documents\\GitHub\\Sol-idarities\\_posts\\{row['issue_date']}-{row['article_title'].replace('?', '')}.md\"\n",
    "    metadata_table = articles_view.loc[articles_view['article_title'] == row['article_title']]\\\n",
    "        .drop(columns=['article_text', 'article_id']).T\n",
    "\n",
    "    with open(filename, 'w', encoding='utf-8') as f:\n",
    "        f.write(f\"\"\"---\n",
    "title: {row['article_title']}\n",
    "date: {row['issue_date']} 00:00:00 +0100\n",
    "categories: [Articles]\n",
    "tags: []\n",
    "---\\n\\n\"\"\")\n",
    "        f.write(f\"{row['article_text']}\\n\")\n",
    "        f.write(f\"\"\"\n",
    "| Cite this:   |\n",
    "|--------|\n",
    "| {citation} \\n\\n\"\"\")"
   ]
  },
  {
   "cell_type": "markdown",
   "metadata": {},
   "source": [
    "## Data for Graph"
   ]
  },
  {
   "cell_type": "code",
   "execution_count": 174,
   "metadata": {},
   "outputs": [],
   "source": [
    "years = range(1968, 1972)\n",
    "months = range(1, 13)\n",
    "timeframe_in_range = []\n",
    "\n",
    "for year in years:\n",
    "    for month in months:\n",
    "        year_month = f\"{year}-{month:02d}\"\n",
    "        timeframe_in_range.append(year_month)\n",
    "\n",
    "timeframe_in_range = pd.DataFrame(timeframe_in_range, columns=['issue_date'])"
   ]
  },
  {
   "cell_type": "code",
   "execution_count": 175,
   "metadata": {},
   "outputs": [],
   "source": [
    "pd.merge(articles_view[['publication_title', 'issue_date', 'article_id']], timeframe_in_range, how='outer')\\\n",
    "    .pivot_table(index='issue_date', columns='publication_title', values='article_id', aggfunc='count', fill_value=0, dropna=False).reset_index()\\\n",
    "    .to_csv('data_jobs\\Articles Distribution.csv', index=False)"
   ]
  }
 ],
 "metadata": {
  "kernelspec": {
   "display_name": "MyPetProject",
   "language": "python",
   "name": "python3"
  },
  "language_info": {
   "codemirror_mode": {
    "name": "ipython",
    "version": 3
   },
   "file_extension": ".py",
   "mimetype": "text/x-python",
   "name": "python",
   "nbconvert_exporter": "python",
   "pygments_lexer": "ipython3",
   "version": "3.11.8"
  }
 },
 "nbformat": 4,
 "nbformat_minor": 2
}
